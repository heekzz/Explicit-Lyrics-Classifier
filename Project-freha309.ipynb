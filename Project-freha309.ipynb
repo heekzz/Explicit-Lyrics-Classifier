{
 "cells": [
  {
   "cell_type": "markdown",
   "metadata": {},
   "source": [
    " # TDDE16 - Project"
   ]
  },
  {
   "cell_type": "markdown",
   "metadata": {},
   "source": [
    "### Description\n",
    "Get song lyrics and detect if the lyrics are containing bad words and then mark the song as “Explicit”. Check from explicit songs in Spotify as golden standard. Replace the explicit word with a suitable non-explicit word.\n",
    "\n",
    "Using Genius and Spotify API :) \n"
   ]
  },
  {
   "cell_type": "markdown",
   "metadata": {},
   "source": [
    "## Data retrieval"
   ]
  },
  {
   "cell_type": "markdown",
   "metadata": {},
   "source": [
    "### Spotify - Track Retriever"
   ]
  },
  {
   "cell_type": "code",
   "execution_count": null,
   "metadata": {
    "collapsed": true
   },
   "outputs": [],
   "source": [
    "import requests, json, base64\n",
    "\n",
    "class TrackRetriever():\n",
    "    def __init__(self):\n",
    "        self.request_token()\n",
    "        \n",
    "    # Requests an OAuth token required by the Spotify API\n",
    "    def request_token(self):\n",
    "        # Client ID and secret for Spotify Application\n",
    "        client_id = '055a803e06f848a9a6b18ec76aafbe6e'\n",
    "        client_secret = '756b412f52d54b49bd4e2fa0b2f0df15'\n",
    "        # Encode client ID and secret in base64\n",
    "        string = ':'.join([client_id, client_secret])\n",
    "        encoded = base64.b64encode(string.encode())\n",
    "        # Add encoding to header\n",
    "        header = { \"Authorization\" : \"Basic \" + encoded.decode('utf-8')}\n",
    "        data = {\"grant_type\" : \"client_credentials\"}\n",
    "        # Url for requesting OAuth token for Spotify API\n",
    "        url = \"https://accounts.spotify.com/api/token\" \n",
    "        response = requests.post(url, data=data, headers=header)\n",
    "        # Store OAuth token in class\n",
    "        self.token = response.json()['access_token']\n",
    "        if not self.token:\n",
    "            print(\"Error receiving token!\")\n",
    "            print(response.json())\n",
    "    \n",
    "    # Gets track id of all songs in a playlist. \n",
    "    # Input is an Spotify URI of a playlist\n",
    "    def get_tracks_from_playlist(self, spotify_uri):\n",
    "        track_list = []\n",
    "        split = spotify_uri.split(\":\")\n",
    "        user = split[2]\n",
    "        playlist_id = split[4]\n",
    "        header = { \"Authorization\" : \"Bearer \" + self.token}\n",
    "        url = \"https://api.spotify.com/v1/users/{}/playlists/{}/tracks\".format(user, playlist_id)\n",
    "        response = requests.get(url, headers=header)\n",
    "        json_res = response.json()\n",
    "        for track in json_res['items']:\n",
    "            track_list.append(track['track'])\n",
    "        return track_list\n",
    "    \n",
    "    # Extracts track title, artist name and explicit bool from a track json\n",
    "    def extract_info(self, track):\n",
    "        # Join all artists to one string separated by a whitespace\n",
    "        artists = \" \".join([str(art['name']) for art in track['artists']])\n",
    "        # Extract title and explicit status\n",
    "        title = track['name']\n",
    "        explicit = track['explicit']\n",
    "        track_id = track['id']\n",
    "        return {'id': track_id, 'artist': artists, 'title': title, 'explicit': explicit}\n",
    "    \n",
    "    # Starting method for retrieving songs from a playlist\n",
    "    def get_track_info(self, uri):\n",
    "        track_list = []\n",
    "        tracks = self.get_tracks_from_playlist(uri)\n",
    "        for t in tracks:\n",
    "            track_list.append(self.extract_info(t))\n",
    "        return track_list\n",
    "            \n",
    "        \n",
    "# spotify:user:spotify:playlist:37i9dQZF1E9RVkbMAXdy3v        "
   ]
  },
  {
   "cell_type": "markdown",
   "metadata": {},
   "source": [
    "### Genius - Lyrics Catcher"
   ]
  },
  {
   "cell_type": "code",
   "execution_count": null,
   "metadata": {
    "collapsed": true,
    "scrolled": true
   },
   "outputs": [],
   "source": [
    "import requests, json, re\n",
    "from bs4 import BeautifulSoup\n",
    "\n",
    "class LyricsCatcher():\n",
    "    def __init__(self, token):\n",
    "        self.oauth_token = token\n",
    "        self.api_url = \"http://api.genius.com\"\n",
    "        self.api_headers = {'Authorization': 'Bearer ' + oauth_token}\n",
    "        self.web_url = \"https://genius.com\"\n",
    "        \n",
    "    def search_song(self, song_title, artist_name):\n",
    "        search_url = \"{}/search?q={}{}\".format(self.api_url, song_title, artist_name)\n",
    "        response = requests.get(search_url, headers=self.api_headers)\n",
    "        json = response.json()\n",
    "        song_info = None\n",
    "        for hit in json[\"response\"][\"hits\"]:\n",
    "            if hit[\"result\"][\"primary_artist\"][\"name\"] == artist_name:\n",
    "                song_info = hit\n",
    "                break\n",
    "        return song_info\n",
    "    \n",
    "    def get_url(self, song_id):\n",
    "        endpoint = \"/songs/{}\".format(song_id)\n",
    "        # Get song info from API using the song ID\n",
    "        response = requests.get(self.api_url + endpoint, headers=self.api_headers)\n",
    "        return response.json()[\"response\"][\"song\"][\"path\"]\n",
    "    \n",
    "    def get_lyrics(self, endpoint):\n",
    "        # Fetch page containing the lyrics\n",
    "        u = self.web_url + endpoint\n",
    "        page = requests.get(u)\n",
    "        # Extract HTML source code from page\n",
    "        html = BeautifulSoup(page.text, \"html.parser\")\n",
    "        # Remove script tags that they put in the middle of the lyrics\n",
    "        [h.extract() for h in html('script')]\n",
    "        # Get the div-tag where the lyrics are and extract text inside\n",
    "        lyrics = html.find(\"div\", class_=\"lyrics\").get_text()\n",
    "        lyrics = re.sub(r'\\[.+\\]', '', lyrics)\n",
    "        lyrics = re.sub(r'\\n+', ' ', lyrics)\n",
    "        return lyrics\n",
    "    \n",
    "    def fetch_lyrics(self, title, artist):\n",
    "        song = self.search_song(title, artist)\n",
    "        if not(song):\n",
    "            return None\n",
    "        song_id = str(song[\"result\"][\"id\"])\n",
    "        path = self.get_url(song_id)\n",
    "        lyrics = self.get_lyrics(path)\n",
    "        return lyrics\n",
    "        "
   ]
  },
  {
   "cell_type": "markdown",
   "metadata": {},
   "source": [
    "## Data gathering\n",
    "Using the Spotify API to get songs and explicit status and then use the genius API to search for lyrics"
   ]
  },
  {
   "cell_type": "code",
   "execution_count": null,
   "metadata": {},
   "outputs": [],
   "source": [
    "import time\n",
    "import winsound\n",
    "# Method for printing statistics of the tracks\n",
    "def evaluate(tracks):\n",
    "    explicit_counter = 0\n",
    "    non_explicit_counter = 0\n",
    "    \n",
    "    for track in tracks:\n",
    "        if track['explicit']:\n",
    "            explicit_counter += 1\n",
    "        else:\n",
    "            non_explicit_counter += 1\n",
    "    total = len(tracks)\n",
    "    print(\"Total number of lyrics: \" + str(total))\n",
    "    print(\"Explicit tracks:\\t {0}% ({1})\".format((explicit_counter/total)*100, explicit_counter))\n",
    "    print(\"Non-Explicit tracks:\\t {0}% ({1})\".format((non_explicit_counter/total)*100, non_explicit_counter))\n",
    "    \n",
    "def play_sound():\n",
    "    duration = 100  # millisecond\n",
    "    freq = 440  # Hz\n",
    "    for i in range(10):\n",
    "        winsound.Beep(freq, duration)\n",
    "        time.sleep(0.5)"
   ]
  },
  {
   "cell_type": "code",
   "execution_count": null,
   "metadata": {
    "scrolled": true
   },
   "outputs": [],
   "source": [
    "oauth_token = \"O8rraozwWRK1i66ofhUJSZ9EDCBLkxg-gfoDzBB9_XH3Vjsm0qYoewK8C7lMOWkh\"\n",
    "catcher = LyricsCatcher(oauth_token)\n",
    "tr = TrackRetriever()\n",
    "playlists = [\n",
    "    'spotify:user:heekzz:playlist:5IeIXRXPSkRpBX9bNo5onK', # Test\n",
    "    #'spotify:user:heekzz:playlist:6nL0gtJLo2xqCWIirZ4inF', # Rockify\n",
    "    #'spotify:user:spotify:playlist:37i9dQZF1DXcF6B6QPhFDv', # Rock Classics\n",
    "    #'spotify:user:spotify:playlist:37i9dQZF1DX0XUsuxWHRQd', # Rapcaviar \n",
    "    #'spotify:user:spotify:playlist:37i9dQZF1DWVA1Gq4XHa6U', # Gold School (Hiphop)\n",
    "    #'',\n",
    "    #'',\n",
    "    #'',\n",
    "    #'',\n",
    "    #'',\n",
    "    #'',\n",
    "    #''\n",
    "]\n",
    "tic = time.time()\n",
    "tracks_with_lyrics = []\n",
    "track_id_set = set()\n",
    "for pl in playlists:\n",
    "    tracks = tr.get_track_info(pl)\n",
    "    for t in tracks:\n",
    "        if t['id'] not in track_id_set:\n",
    "            lyrics = catcher.fetch_lyrics(t['title'], t['artist'])\n",
    "            if lyrics != None:\n",
    "                data = {'id': t['id'], 'artist': t['artist'], 'title': t['title'], 'explicit': t['explicit'], 'lyrics': lyrics}\n",
    "                tracks_with_lyrics.append(data)\n",
    "            track_id_set.add(t['id'])\n",
    "elapsed = (time.time() - tic)\n",
    "#print(tracks_with_lyrics)"
   ]
  },
  {
   "cell_type": "code",
   "execution_count": null,
   "metadata": {},
   "outputs": [],
   "source": [
    "evaluate(tracks_with_lyrics)\n",
    "print(\"Duration: \" + str(elapsed))\n",
    "play_sound()"
   ]
  },
  {
   "cell_type": "markdown",
   "metadata": {},
   "source": [
    "### Pre-processing"
   ]
  },
  {
   "cell_type": "code",
   "execution_count": null,
   "metadata": {},
   "outputs": [],
   "source": [
    "import nltk\n",
    "#nltk.download()\n",
    "#tokens = nltk.word_tokenize(tracks_with_lyrics[0]['lyrics'])\n",
    "print(json.dumps(tracks_with_lyrics, indent=2))\n",
    "play_sound()"
   ]
  }
 ],
 "metadata": {
  "kernelspec": {
   "display_name": "Python 3",
   "language": "python",
   "name": "python3"
  },
  "language_info": {
   "codemirror_mode": {
    "name": "ipython",
    "version": 3
   },
   "file_extension": ".py",
   "mimetype": "text/x-python",
   "name": "python",
   "nbconvert_exporter": "python",
   "pygments_lexer": "ipython3",
   "version": "3.6.3"
  }
 },
 "nbformat": 4,
 "nbformat_minor": 2
}
