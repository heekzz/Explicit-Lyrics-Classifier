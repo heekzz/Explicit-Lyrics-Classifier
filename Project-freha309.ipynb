{
 "cells": [
  {
   "cell_type": "markdown",
   "metadata": {},
   "source": [
    "# TDDE16 - Project"
   ]
  },
  {
   "cell_type": "markdown",
   "metadata": {},
   "source": [
    "### Description\n",
    "Get song lyrics and detect if the lyrics are containing bad words and then mark the song as “Explicit”. Check from explicit songs in Spotify as golden standard. Replace the explicit word with a suitable non-explicit word.\n",
    "\n",
    "Using Genius and Spotify API :) \n"
   ]
  },
  {
   "cell_type": "markdown",
   "metadata": {},
   "source": [
    "## Data retrieval"
   ]
  },
  {
   "cell_type": "code",
   "execution_count": 1,
   "metadata": {},
   "outputs": [],
   "source": [
    "import requests\n",
    "import json\n",
    "import base64\n",
    "import time\n",
    "import os\n",
    "import re\n",
    "from bs4 import BeautifulSoup\n",
    "import sys\n",
    "import nltk, random\n",
    "import matplotlib.pyplot as plt\n",
    "from nltk.stem.lancaster import LancasterStemmer"
   ]
  },
  {
   "cell_type": "markdown",
   "metadata": {},
   "source": [
    "### Spotify - Track Retriever"
   ]
  },
  {
   "cell_type": "code",
   "execution_count": 2,
   "metadata": {},
   "outputs": [],
   "source": [
    "class TrackRetriever():\n",
    "    def __init__(self):\n",
    "        self.request_token()\n",
    "        \n",
    "    # Requests an OAuth token required by the Spotify API\n",
    "    def request_token(self):\n",
    "        # Client ID and secret for Spotify Application\n",
    "        client_id = '055a803e06f848a9a6b18ec76aafbe6e'\n",
    "        client_secret = '756b412f52d54b49bd4e2fa0b2f0df15'\n",
    "        # Encode client ID and secret in base64\n",
    "        string = ':'.join([client_id, client_secret])\n",
    "        encoded = base64.b64encode(string.encode())\n",
    "        # Add encoding to header\n",
    "        header = { \"Authorization\" : \"Basic \" + encoded.decode('utf-8')}\n",
    "        data = {\"grant_type\" : \"client_credentials\"}\n",
    "        # Url for requesting OAuth token for Spotify API\n",
    "        url = \"https://accounts.spotify.com/api/token\" \n",
    "        response = requests.post(url, data=data, headers=header)\n",
    "        # Store OAuth token in class\n",
    "        self.token = response.json()['access_token']\n",
    "        if not self.token:\n",
    "            print(\"Error receiving token!\")\n",
    "            print(response.json())\n",
    "    \n",
    "    # Gets track id of all songs in a playlist. \n",
    "    # Input is an Spotify URI of a playlist\n",
    "    def get_tracks_from_playlist(self, spotify_uri):\n",
    "        track_list = []\n",
    "        split = spotify_uri.split(\":\")\n",
    "        user = split[2]\n",
    "        playlist_id = split[4]\n",
    "        header = { \"Authorization\" : \"Bearer \" + self.token}\n",
    "        url = \"https://api.spotify.com/v1/users/{}/playlists/{}/tracks\".format(user, playlist_id)\n",
    "        response = requests.get(url, headers=header)\n",
    "        json_res = response.json()\n",
    "        for track in json_res['items']:\n",
    "            track_list.append(track['track'])\n",
    "\n",
    "        # If the playlist contains more than 100 tracks the result is split up\n",
    "        # and fetched via a different URL\n",
    "        while json_res['next'] is not None:\n",
    "            url = json_res['next']\n",
    "            response = requests.get(url, headers=header)\n",
    "            json_res = response.json()            \n",
    "            for track in json_res['items']:\n",
    "                track_list.append(track['track'])\n",
    "        \n",
    "        return track_list\n",
    "    \n",
    "    # Extracts track title, artist name and explicit bool from a track json\n",
    "    def extract_info(self, track):\n",
    "        # Join all artists to one string separated by a whitespace\n",
    "        artists = \" \".join([str(art['name']) for art in track['artists']])\n",
    "        # Extract title and explicit status\n",
    "        title = track['name']\n",
    "        explicit = track['explicit']\n",
    "        track_id = track['id']\n",
    "        return {'id': track_id, 'artist': artists, 'title': title, 'explicit': explicit}\n",
    "    \n",
    "    # Starting method for retrieving songs from a playlist\n",
    "    def get_track_info(self, uri):\n",
    "        track_list = []\n",
    "        tracks = self.get_tracks_from_playlist(uri)\n",
    "        for t in tracks:\n",
    "            track_list.append(self.extract_info(t))\n",
    "        return track_list\n",
    "            \n",
    "        \n",
    "# spotify:user:spotify:playlist:37i9dQZF1E9RVkbMAXdy3v        "
   ]
  },
  {
   "cell_type": "markdown",
   "metadata": {},
   "source": [
    "### Genius - Lyrics Catcher"
   ]
  },
  {
   "cell_type": "code",
   "execution_count": 3,
   "metadata": {
    "scrolled": true
   },
   "outputs": [],
   "source": [
    "class LyricsCatcher():\n",
    "    def __init__(self, token):\n",
    "        self.oauth_token = token\n",
    "        self.api_url = \"http://api.genius.com\"\n",
    "        self.api_headers = {'Authorization': 'Bearer ' + token}\n",
    "        self.web_url = \"https://genius.com\"\n",
    "        \n",
    "    def search_song(self, song_title, artist_name):\n",
    "        search_url = \"{}/search?q={}{}\".format(self.api_url, song_title, artist_name)\n",
    "        response = requests.get(search_url, headers=self.api_headers)\n",
    "        json = response.json()\n",
    "        song_info = None\n",
    "        for hit in json[\"response\"][\"hits\"]:\n",
    "            if hit[\"result\"][\"primary_artist\"][\"name\"] in artist_name:\n",
    "                song_info = hit\n",
    "                break\n",
    "        return song_info\n",
    "    \n",
    "    def get_url(self, song_id):\n",
    "        endpoint = \"/songs/{}\".format(song_id)\n",
    "        # Get song info from API using the song ID\n",
    "        response = requests.get(self.api_url + endpoint, headers=self.api_headers)\n",
    "        return response.json()[\"response\"][\"song\"][\"path\"]\n",
    "    \n",
    "    def get_lyrics(self, endpoint):\n",
    "        # Fetch page containing the lyrics\n",
    "        u = self.web_url + endpoint\n",
    "        page = requests.get(u)\n",
    "        # Extract HTML source code from page\n",
    "        html = BeautifulSoup(page.text, \"html.parser\")\n",
    "        # Remove script tags that they put in the middle of the lyrics\n",
    "        [h.extract() for h in html('script')]\n",
    "        # Get the div-tag where the lyrics are and extract text inside\n",
    "        lyrics = html.find(\"div\", class_=\"lyrics\").get_text()\n",
    "        lyrics = re.sub(r'\\[.+\\]', '', lyrics)\n",
    "        lyrics = re.sub(r'\\n+', ' ', lyrics)\n",
    "        return lyrics\n",
    "    \n",
    "    def fetch_lyrics(self, title, artist):\n",
    "        song = self.search_song(title, artist)\n",
    "        if not(song):\n",
    "            return None\n",
    "        song_id = str(song[\"result\"][\"id\"])\n",
    "        path = self.get_url(song_id)\n",
    "        lyrics = self.get_lyrics(path)\n",
    "        return lyrics\n",
    "        \n"
   ]
  },
  {
   "cell_type": "markdown",
   "metadata": {},
   "source": [
    "## Dataset statistics script"
   ]
  },
  {
   "cell_type": "markdown",
   "metadata": {},
   "source": [
    "## Data gathering\n",
    "Using the Spotify API to get songs and explicit status and then use the genius API to search for lyrics"
   ]
  },
  {
   "cell_type": "code",
   "execution_count": 4,
   "metadata": {},
   "outputs": [],
   "source": [
    "def read_track_id():\n",
    "    track_id_set = set()\n",
    "    json_data = []\n",
    "    with open('track_id.json') as file:\n",
    "        json_data = json.load(file)\n",
    "    for track_id in json_data:\n",
    "        track_id_set.add(track_id)\n",
    "    return set(track_id_set)\n",
    "\n",
    "# Read json file with data\n",
    "def read_data():\n",
    "    with open('data.json') as input_file:\n",
    "        data = json.load(input_file)\n",
    "    return data\n",
    "\n",
    "# Plays a message on Mac OSX\n",
    "def play_sound():\n",
    "    for i in range(2):\n",
    "        os.system('say \"Programmet har kört klart!\"')\n",
    "        time.sleep(1)"
   ]
  },
  {
   "cell_type": "code",
   "execution_count": 5,
   "metadata": {
    "scrolled": true
   },
   "outputs": [],
   "source": [
    "elapsed = 0\n",
    "\n",
    "def scrape_data():\n",
    "    oauth_token = \"O8rraozwWRK1i66ofhUJSZ9EDCBLkxg-gfoDzBB9_XH3Vjsm0qYoewK8C7lMOWkh\"\n",
    "    catcher = LyricsCatcher(oauth_token)\n",
    "    tr = TrackRetriever()\n",
    "    playlists = [\n",
    "        'spotify:user:heekzz:playlist:5IeIXRXPSkRpBX9bNo5onK', # Test\n",
    "        'spotify:user:heekzz:playlist:2FxBKjKF6QaXldXWdjcvK5', # Discover Weekly archive\n",
    "        'spotify:user:heekzz:playlist:6nL0gtJLo2xqCWIirZ4inF', # Rockify\n",
    "        'spotify:user:spotify:playlist:37i9dQZF1DXcF6B6QPhFDv', # Rock Classics\n",
    "        'spotify:user:spotify:playlist:37i9dQZF1DX0XUsuxWHRQd', # Rapcaviar \n",
    "        'spotify:user:spotify:playlist:37i9dQZF1DWVA1Gq4XHa6U', # Gold School (Hiphop)\n",
    "        'spotify:user:spotify:playlist:37i9dQZF1DX9dp45EzSeyl', # Top artists 2017\n",
    "        'spotify:user:spotify:playlist:37i9dQZF1DWY4xHQp97fN6', # Get Turnt (Hiphop)\n",
    "        'spotify:user:spotify:playlist:37i9dQZF1DXcA6dRp8rwj6', # Beats and Rhymes (Hiphop)\n",
    "        'spotify:user:spotify:playlist:37i9dQZF1DX4o1oenSJRJd', # All out of 00's\n",
    "        'spotify:user:heekzz:playlist:1wyfKl8G7LTo6aDmSAnNGn', # Explicit only (selfmade)\n",
    "        'spotify:user:spotify:playlist:37i9dQZF1DWX4OQBd6GoaY', # Re:Play\n",
    "        'spotify:user:spotify:playlist:37i9dQZF1DXbYM3nMM0oPk', # Mega Hits mix\n",
    "        'spotify:user:spotify:playlist:37i9dQZF1DX0s5kDXi1oC5', # Hit Rewind\n",
    "        'spotify:user:spotify:playlist:37i9dQZF1DX1lVhptIYRda', # Hot Country\n",
    "        'spotify:user:1217276962:playlist:0PDEwXJAIUAzBUZYeMLgRf', # Sing a long\n",
    "        'spotify:user:derpgasm:playlist:4f21f0VhTiIzZf1vMI0dDY', # The rap collection\n",
    "        'spotify:user:heekzz:playlist:6lQxvXBQYdusu9DL5FIr0F', # Stepping with the wolfs\n",
    "        'spotify:user:21cac4a7helevxexvi46d6a6a:playlist:6XcxyuSl7CLOYGMm6fW4V1', # Rap collection 2017\n",
    "        'spotify:user:1293333339:playlist:1jADzvTmI3iEMFKmlH9vnh', # Classic rock collection\n",
    "    ]\n",
    "    tic = time.time()\n",
    "    tracks_with_lyrics = read_data()\n",
    "    track_id_set = read_track_id()\n",
    "    for pl in playlists:\n",
    "        try:\n",
    "            tracks = tr.get_track_info(pl)\n",
    "            track_counter = 0\n",
    "            for t in tracks:\n",
    "                if t['id'] not in track_id_set:\n",
    "                    track_id_set.add(t['id'])\n",
    "                    lyrics = catcher.fetch_lyrics(t['title'], t['artist'])\n",
    "                    if lyrics != None:\n",
    "                        data = {'id': t['id'], 'artist': t['artist'], 'title': t['title'], 'explicit': t['explicit'], 'lyrics': lyrics}\n",
    "                        tracks_with_lyrics.append(data)\n",
    "\n",
    "                track_counter += 1        \n",
    "                elapsed = (time.time() - tic)\n",
    "                m, s = divmod(elapsed, 60)\n",
    "                h, m = divmod(m, 60)\n",
    "                print (\"Tracks processed: {}/{}, Lyrics found: {} Duration: {:.0f}:{:.0f}:{:.0f}     \" \\\n",
    "                       .format(track_counter, len(tracks), len(tracks_with_lyrics), h, m, s), end=\"\\r\") \n",
    "            # Save file as json\n",
    "            with open('data.json', 'w') as output:\n",
    "                json.dump(tracks_with_lyrics, output, indent=2)\n",
    "            with open('track_id.json', 'w') as output_id:\n",
    "                json.dump(list(track_id_set), output_id, indent=2)\n",
    "        except:\n",
    "            print(\"Got error: {}\".format(sys.exc_info()[0]))\n",
    "            continue\n",
    "    play_sound()\n",
    "    \n",
    "# Uncomment to scrape data\n",
    "# scrape_data()"
   ]
  },
  {
   "cell_type": "markdown",
   "metadata": {},
   "source": [
    "### Evaluation scipts"
   ]
  },
  {
   "cell_type": "code",
   "execution_count": 6,
   "metadata": {},
   "outputs": [],
   "source": [
    "# Method for printing statistics of the tracks\n",
    "def stats(tracks):\n",
    "    explicit_counter = 0\n",
    "    non_explicit_counter = 0\n",
    "    \n",
    "    for track in tracks:\n",
    "        if track['explicit']:\n",
    "            explicit_counter += 1\n",
    "        else:\n",
    "            non_explicit_counter += 1\n",
    "    total = len(tracks)\n",
    "    print(\"Total number of lyrics: \" + str(total))\n",
    "    print(\"Explicit tracks:\\t {0:.2f}% ({1})\".format((explicit_counter/total)*100, explicit_counter))\n",
    "    print(\"Non-Explicit tracks:\\t {0:.2f}% ({1})\".format((non_explicit_counter/total)*100, non_explicit_counter))\n",
    "    \n",
    "# Method for evaluating a classifier\n",
    "# Returns accuracy, precision, recall and F1-measre\n",
    "def evaluate(classifier, data):\n",
    "    tp, fp, tn, fn  = 0,0,0,0\n",
    "    total = len(data)\n",
    "    for x in data:\n",
    "        y = classifier.predict(x[0]) \n",
    "        if y == 'True':\n",
    "            if x[1] ==  'True':\n",
    "                tp += 1\n",
    "            else:\n",
    "                fp += 1\n",
    "        if y == 'False':\n",
    "            if x[1] == 'False':\n",
    "                tn += 1\n",
    "            else:\n",
    "                fn += 1\n",
    "    accuracy = (tp+tn)/(tp+tn+fp+fn)\n",
    "    precision = tp/(tp+fp)\n",
    "    recall = tp/(tp+fn)\n",
    "    f1 = 2*((precision * recall)/(precision + recall)) #8 + 6\n",
    "    #print(\"Accuracy: {:=7.2f}\".format(accuracy*100))\n",
    "    #print(\"Precision: {:=6.2f}\".format(precision*100))\n",
    "    #print(\"Recall: {:=9.2f}\".format(recall*100))\n",
    "    #print(\"F1-measure: {:=4.2f}\".format(f1*100))\n",
    "    return accuracy, precision, recall, f1\n",
    "\n"
   ]
  },
  {
   "cell_type": "markdown",
   "metadata": {},
   "source": [
    "### Read file with saved lyrics"
   ]
  },
  {
   "cell_type": "code",
   "execution_count": 7,
   "metadata": {},
   "outputs": [
    {
     "name": "stdout",
     "output_type": "stream",
     "text": [
      "Total number of lyrics: 3598\n",
      "Explicit tracks:\t 51.22% (1843)\n",
      "Non-Explicit tracks:\t 48.78% (1755)\n"
     ]
    }
   ],
   "source": [
    "data = read_data()\n",
    "stats(data)"
   ]
  },
  {
   "cell_type": "markdown",
   "metadata": {},
   "source": [
    "## Pre-processing"
   ]
  },
  {
   "cell_type": "markdown",
   "metadata": {},
   "source": [
    "1. Tokenize \n",
    "2. Stem words\n",
    "4. Make lowercase\n",
    "3. Remove stop words"
   ]
  },
  {
   "cell_type": "code",
   "execution_count": 8,
   "metadata": {},
   "outputs": [
    {
     "name": "stdout",
     "output_type": "stream",
     "text": [
      "Data length: 3598\n"
     ]
    }
   ],
   "source": [
    "#nltk.download()\n",
    "st = LancasterStemmer()\n",
    "\n",
    "print(\"Data length: \" + str(len(data)))\n",
    "# Tokenize and remove english stop words\n",
    "count = 0\n",
    "for track in data:\n",
    "    count+=1\n",
    "    print(\"Progress: {}\".format((count/len(data))*100, end=\"\\r\"))\n",
    "    track['lyrics'] = nltk.word_tokenize(track['lyrics'])\n",
    "    track['lyrics'] = [st.stem(word.lower()) for word in track['lyrics'] if word not in nltk.corpus.stopwords.words('english')]"
   ]
  },
  {
   "cell_type": "markdown",
   "metadata": {},
   "source": [
    "Split into training and test set"
   ]
  },
  {
   "cell_type": "code",
   "execution_count": 9,
   "metadata": {},
   "outputs": [
    {
     "name": "stdout",
     "output_type": "stream",
     "text": [
      "Data_set length: 3598\n",
      "Train length: 2878\n",
      "Test length: 720\n",
      "Train_set length: 2878\n",
      "Test_set length: 720\n"
     ]
    }
   ],
   "source": [
    "# Binarize the data so that every word only appears once in the training and test set\n",
    "def binarize(data):\n",
    "    new_data = []\n",
    "    for lyrics in data:\n",
    "        new_data.append([list(set(lyrics[0])),lyrics[1]])\n",
    "    return new_data\n",
    "\n",
    "# Shuffle the data\n",
    "random.shuffle(data)\n",
    "    \n",
    "# Save dataset containing only lyrics and classification \n",
    "data_set = [(t['lyrics'], str(t['explicit'])) for t in data]\n",
    "print(\"Data_set length: \" + str(len(data_set)))\n",
    "\n",
    "# test data = 20%\n",
    "num_of_test = round(len(data_set) / 5);\n",
    "\n",
    "# train data = 80%\n",
    "num_of_train = len(data_set) - num_of_test\n",
    "\n",
    "print(\"Train length: \" + str(num_of_train))\n",
    "print(\"Test length: \" + str(num_of_test))\n",
    "\n",
    "\n",
    "# Split data into training and test data\n",
    "train_set, test_set  = data_set[:num_of_train], data_set[-num_of_test:]\n",
    "print(\"Train_set length: \" + str(len(train_set)))\n",
    "print(\"Test_set length: \" + str(len(test_set)))"
   ]
  },
  {
   "cell_type": "markdown",
   "metadata": {},
   "source": [
    "## Multi class perceptron classifier"
   ]
  },
  {
   "cell_type": "code",
   "execution_count": 10,
   "metadata": {},
   "outputs": [],
   "source": [
    "class PerceptronClassifier():\n",
    "\n",
    "    def predict(self, lyrics):\n",
    "        scores = {'True': 0, 'False': 0} # maps classes to scores\n",
    "        for c in ['True', 'False']:\n",
    "            for word in lyrics:\n",
    "                if word in self.weights[c]:\n",
    "                     scores[c] += self.weights[c][word] #* x[f]\n",
    "                else: \n",
    "                    self.weights[c].update({word:0})\n",
    "                    self.accumilator[c].update({word:0})\n",
    "        return max(scores, key=lambda c: scores[c])\n",
    "        \n",
    "    @classmethod\n",
    "    def train(cls, data, n_epochs=1, average=True):\n",
    "        mpc = cls()\n",
    "        mpc.weights = {'True':{}, 'False' : {}}\n",
    "        mpc.accumilator = {'True':{}, 'False':{}}\n",
    "        count=1\n",
    "        for e in range(0, n_epochs):\n",
    "            for lyrics in data: \n",
    "                p = mpc.predict(lyrics[0])\n",
    "                y = lyrics[1]\n",
    "                \n",
    "                if p != y:\n",
    "                    for word in lyrics[0]:\n",
    "                        mpc.weights[p][word] -= 1\n",
    "                        mpc.weights[y][word] += 1\n",
    "                        mpc.accumilator[p][word] -= count\n",
    "                        mpc.accumilator[y][word] += count\n",
    "                count+=1\n",
    "        # Averaging\n",
    "        if average:\n",
    "            for c in ['True','False']:\n",
    "                for word in mpc.weights[c]:\n",
    "                    mpc.weights[c][word]-=mpc.accumilator[c][word]/count\n",
    "\n",
    "        return mpc"
   ]
  },
  {
   "cell_type": "code",
   "execution_count": 11,
   "metadata": {},
   "outputs": [
    {
     "name": "stdout",
     "output_type": "stream",
     "text": [
      "Num of explicit: 1467\n",
      "Num of non-explicit: 1411\n",
      "2878\n",
      "720\n"
     ]
    }
   ],
   "source": [
    "counter_t, counter_f = 0, 0\n",
    "for l, e in train_set:\n",
    "    if e == 'True':\n",
    "        counter_t += 1\n",
    "    else:\n",
    "        counter_f += 1\n",
    "print(\"Num of explicit: {}\".format(counter_t))\n",
    "print(\"Num of non-explicit: {}\".format(counter_f))\n",
    "print(len(train_set))\n",
    "print(len(test_set))"
   ]
  },
  {
   "cell_type": "markdown",
   "metadata": {},
   "source": [
    "Evaluate model with different epochs"
   ]
  },
  {
   "cell_type": "code",
   "execution_count": 18,
   "metadata": {},
   "outputs": [
    {
     "name": "stdout",
     "output_type": "stream",
     "text": [
      "Epoch: 1, Accuracy: 0.82, Precision: 0.82, Recall: 0.86, F1: 0.84\n",
      "Epoch: 2, Accuracy: 0.84, Precision: 0.82, Recall: 0.88, F1: 0.85\n",
      "Epoch: 3, Accuracy: 0.84, Precision: 0.83, Recall: 0.89, F1: 0.86\n",
      "Epoch: 4, Accuracy: 0.84, Precision: 0.83, Recall: 0.88, F1: 0.86\n",
      "Epoch: 5, Accuracy: 0.85, Precision: 0.84, Recall: 0.88, F1: 0.86\n",
      "Epoch: 6, Accuracy: 0.85, Precision: 0.84, Recall: 0.88, F1: 0.86\n",
      "Epoch: 7, Accuracy: 0.85, Precision: 0.84, Recall: 0.88, F1: 0.86\n",
      "Epoch: 8, Accuracy: 0.85, Precision: 0.84, Recall: 0.88, F1: 0.86\n",
      "Epoch: 9, Accuracy: 0.85, Precision: 0.84, Recall: 0.88, F1: 0.86\n",
      "Epoch: 10, Accuracy: 0.84, Precision: 0.83, Recall: 0.88, F1: 0.85\n",
      "Epoch: 11, Accuracy: 0.84, Precision: 0.83, Recall: 0.87, F1: 0.85\n",
      "Epoch: 12, Accuracy: 0.84, Precision: 0.83, Recall: 0.87, F1: 0.85\n",
      "Epoch: 13, Accuracy: 0.83, Precision: 0.82, Recall: 0.86, F1: 0.84\n",
      "Epoch: 14, Accuracy: 0.83, Precision: 0.82, Recall: 0.87, F1: 0.84\n",
      "Epoch: 15, Accuracy: 0.83, Precision: 0.82, Recall: 0.87, F1: 0.84\n",
      "Epoch: 16, Accuracy: 0.83, Precision: 0.82, Recall: 0.86, F1: 0.84\n",
      "Epoch: 17, Accuracy: 0.83, Precision: 0.82, Recall: 0.87, F1: 0.84\n",
      "Epoch: 18, Accuracy: 0.82, Precision: 0.81, Recall: 0.87, F1: 0.84\n",
      "Epoch: 19, Accuracy: 0.82, Precision: 0.81, Recall: 0.87, F1: 0.84\n",
      "Epoch: 20, Accuracy: 0.83, Precision: 0.81, Recall: 0.87, F1: 0.84\n",
      "Progress: 95.24%  \r"
     ]
    },
    {
     "data": {
      "image/png": "[encoded data removed]",
      "text/plain": [
       "<matplotlib.figure.Figure at 0x110b768d0>"
      ]
     },
     "metadata": {},
     "output_type": "display_data"
    }
   ],
   "source": [
    "acc, pres, rec, f1, e = [], [], [], [], [] \n",
    "for epoch in range(1,21):\n",
    "    e.append(epoch)\n",
    "    pc = PerceptronClassifier().train(train_set, epoch)\n",
    "    a, p, r, f = evaluate(pc, test_set)\n",
    "    acc.append(a*100)\n",
    "    pres.append(p*100)\n",
    "    rec.append(r*100)\n",
    "    f1.append(f*100)\n",
    "    print(\"Epoch {}: Accuracy: {:.2f}%, Precision: {:.2f}%, Recall: {:.2f}%, F1: {:.2f}%\".format(epoch, a*100, p*100, r*100, f*100))\n",
    "    print(\"Progress: {:.2f}%  \".format((epoch/21)*100), end=\"\\r\")\n",
    "plt.plot(e, acc, label='Accuracy')\n",
    "plt.plot(e, pres, label='Precision')\n",
    "plt.plot(e, rec, label='Recall')\n",
    "plt.plot(e, f1, label='F1-measure')\n",
    "plt.xlabel('Epochs')\n",
    "plt.ylabel('Percentage')\n",
    "plt.legend()\n",
    "plt.show()"
   ]
  },
  {
   "cell_type": "markdown",
   "metadata": {},
   "source": [
    "Plotting the data to see best matching epochs"
   ]
  },
  {
   "cell_type": "code",
   "execution_count": 19,
   "metadata": {},
   "outputs": [
    {
     "name": "stdout",
     "output_type": "stream",
     "text": [
      "Epoch 1: Accuracy: 0.82, Precision: 0.92, Recall: 0.72, F1: 0.81\n",
      "Epoch 2: Accuracy: 0.82, Precision: 0.95, Recall: 0.69, F1: 0.80\n",
      "Epoch 3: Accuracy: 0.82, Precision: 0.93, Recall: 0.71, F1: 0.80\n",
      "Epoch 4: Accuracy: 0.86, Precision: 0.91, Recall: 0.82, F1: 0.86\n",
      "Epoch 5: Accuracy: 0.87, Precision: 0.90, Recall: 0.84, F1: 0.87\n",
      "Epoch 6: Accuracy: 0.85, Precision: 0.91, Recall: 0.80, F1: 0.85\n",
      "Epoch 7: Accuracy: 0.86, Precision: 0.88, Recall: 0.83, F1: 0.86\n",
      "Epoch 8: Accuracy: 0.86, Precision: 0.84, Recall: 0.91, F1: 0.87\n",
      "Epoch 9: Accuracy: 0.88, Precision: 0.87, Recall: 0.90, F1: 0.88\n",
      "Epoch 10: Accuracy: 0.86, Precision: 0.82, Recall: 0.94, F1: 0.87\n",
      "Epoch 11: Accuracy: 0.87, Precision: 0.87, Recall: 0.89, F1: 0.88\n",
      "Epoch 12: Accuracy: 0.86, Precision: 0.83, Recall: 0.92, F1: 0.87\n",
      "Epoch 13: Accuracy: 0.86, Precision: 0.83, Recall: 0.93, F1: 0.88\n",
      "Epoch 14: Accuracy: 0.85, Precision: 0.81, Recall: 0.93, F1: 0.87\n",
      "Epoch 15: Accuracy: 0.85, Precision: 0.81, Recall: 0.93, F1: 0.87\n",
      "Epoch 16: Accuracy: 0.87, Precision: 0.85, Recall: 0.91, F1: 0.88\n",
      "Epoch 17: Accuracy: 0.86, Precision: 0.82, Recall: 0.93, F1: 0.87\n",
      "Epoch 18: Accuracy: 0.85, Precision: 0.82, Recall: 0.93, F1: 0.87\n",
      "Epoch 19: Accuracy: 0.84, Precision: 0.80, Recall: 0.93, F1: 0.86\n",
      "Epoch 20: Accuracy: 0.87, Precision: 0.86, Recall: 0.91, F1: 0.88\n",
      "Progress: 95.24%  \r"
     ]
    },
    {
     "data": {
      "image/png": "[encoded data removed]",
      "text/plain": [
       "<matplotlib.figure.Figure at 0x10a20acc0>"
      ]
     },
     "metadata": {},
     "output_type": "display_data"
    }
   ],
   "source": [
    "acc, pres, rec, f1, e = [], [], [], [], [] \n",
    "for epoch in range(1,21):\n",
    "    e.append(epoch)\n",
    "    pc = PerceptronClassifier().train(binarize(train_set), epoch, False)\n",
    "    a, p, r, f = evaluate(pc, binarize(test_set))\n",
    "    acc.append(a*100)\n",
    "    pres.append(p*100)\n",
    "    rec.append(r*100)\n",
    "    f1.append(f*100)\n",
    "    print(\"Epoch {}: Accuracy: {:.2f}%, Precision: {:.2f}%, Recall: {:.2f}%, F1: {:.2f}%\".format(epoch, a*100, p*100, r*100, f*100))\n",
    "    print(\"Progress: {:.2f}%  \".format((epoch/21)*100), end=\"\\r\")\n",
    "plt.plot(e, acc, label='Accuracy')\n",
    "plt.plot(e, pres, label='Precision')\n",
    "plt.plot(e, rec, label='Recall')\n",
    "plt.plot(e, f1, label='F1-measure')\n",
    "plt.xlabel('Epochs')\n",
    "plt.ylabel('Percentage')\n",
    "plt.legend()\n",
    "plt.show()\n",
    "play_sound()"
   ]
  },
  {
   "cell_type": "code",
   "execution_count": null,
   "metadata": {},
   "outputs": [],
   "source": []
  }
 ],
 "metadata": {
  "kernelspec": {
   "display_name": "Python 3",
   "language": "python",
   "name": "python3"
  },
  "language_info": {
   "codemirror_mode": {
    "name": "ipython",
    "version": 3
   },
   "file_extension": ".py",
   "mimetype": "text/x-python",
   "name": "python",
   "nbconvert_exporter": "python",
   "pygments_lexer": "ipython3",
   "version": "3.6.3"
  }
 },
 "nbformat": 4,
 "nbformat_minor": 2
}
