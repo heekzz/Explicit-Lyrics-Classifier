{
 "cells": [
  {
   "cell_type": "markdown",
   "metadata": {},
   "source": [
    " # TDDE16 - Project"
   ]
  },
  {
   "cell_type": "markdown",
   "metadata": {},
   "source": [
    "### Description\n",
    "Get song lyrics and detect if the lyrics are containing bad words and then mark the song as “Explicit”. Check from explicit songs in Spotify as golden standard. Replace the explicit word with a suitable non-explicit word.\n",
    "\n",
    "Using Genius and Spotify API :) \n"
   ]
  },
  {
   "cell_type": "markdown",
   "metadata": {},
   "source": [
    "## Data retrieval"
   ]
  },
  {
   "cell_type": "markdown",
   "metadata": {},
   "source": [
    "### Spotify - Track Retriever"
   ]
  },
  {
   "cell_type": "code",
   "execution_count": 8,
   "metadata": {},
   "outputs": [],
   "source": [
    "import requests, json, base64\n",
    "\n",
    "class TrackRetriever():\n",
    "    def __init__(self):\n",
    "        self.request_token()\n",
    "        \n",
    "    # Requests an OAuth token required by the Spotify API\n",
    "    def request_token(self):\n",
    "        # Client ID and secret for Spotify Application\n",
    "        client_id = '055a803e06f848a9a6b18ec76aafbe6e'\n",
    "        client_secret = '756b412f52d54b49bd4e2fa0b2f0df15'\n",
    "        # Encode client ID and secret in base64\n",
    "        string = ':'.join([client_id, client_secret])\n",
    "        encoded = base64.b64encode(string.encode())\n",
    "        # Add encoding to header\n",
    "        header = { \"Authorization\" : \"Basic \" + encoded.decode('utf-8')}\n",
    "        data = {\"grant_type\" : \"client_credentials\"}\n",
    "        # Url for requesting OAuth token for Spotify API\n",
    "        url = \"https://accounts.spotify.com/api/token\" \n",
    "        response = requests.post(url, data=data, headers=header)\n",
    "        # Store OAuth token in class\n",
    "        self.token = response.json()['access_token']\n",
    "        if not self.token:\n",
    "            print(\"Error receiving token!\")\n",
    "            print(response.json())\n",
    "    \n",
    "    # Gets track id of all songs in a playlist. \n",
    "    # Input is an Spotify URI of a playlist\n",
    "    def get_tracks_from_playlist(self, spotify_uri):\n",
    "        track_list = []\n",
    "        split = spotify_uri.split(\":\")\n",
    "        user = split[2]\n",
    "        playlist_id = split[4]\n",
    "        header = { \"Authorization\" : \"Bearer \" + self.token}\n",
    "        url = \"https://api.spotify.com/v1/users/{}/playlists/{}/tracks\".format(user, playlist_id)\n",
    "        response = requests.get(url, headers=header)\n",
    "        json_res = response.json()\n",
    "        for track in json_res['items']:\n",
    "            track_list.append(track['track'])\n",
    "        return track_list\n",
    "    \n",
    "    # Extracts track title, artist name and explicit bool from a track json\n",
    "    def extract_info(self, track):\n",
    "        # Join all artists to one string separated by a whitespace\n",
    "        artists = \" \".join([str(art['name']) for art in track['artists']])\n",
    "        # Extract title and explicit status\n",
    "        title = track['name']\n",
    "        explicit = track['explicit']\n",
    "        track_id = track['id']\n",
    "        return {'id': track_id, 'artist': artists, 'title': title, 'explicit': explicit}\n",
    "    \n",
    "    # Starting method for retrieving songs from a playlist\n",
    "    def get_track_info(self, uri):\n",
    "        track_list = []\n",
    "        tracks = self.get_tracks_from_playlist(uri)\n",
    "        for t in tracks:\n",
    "            track_list.append(self.extract_info(t))\n",
    "        return track_list\n",
    "            \n",
    "        \n",
    "# spotify:user:spotify:playlist:37i9dQZF1E9RVkbMAXdy3v        "
   ]
  },
  {
   "cell_type": "code",
   "execution_count": null,
   "metadata": {},
   "outputs": [],
   "source": [
    "tr = TrackRetriever()\n",
    "tr.get_track_info(\"spotify:user:spotify:playlist:37i9dQZF1E9RVkbMAXdy3v\")"
   ]
  },
  {
   "cell_type": "markdown",
   "metadata": {},
   "source": [
    "### Genius - Lyrics Catcher"
   ]
  },
  {
   "cell_type": "code",
   "execution_count": 19,
   "metadata": {
    "collapsed": true,
    "scrolled": true
   },
   "outputs": [],
   "source": [
    "import requests, json, re\n",
    "from bs4 import BeautifulSoup\n",
    "\n",
    "class LyricsCatcher():\n",
    "    def __init__(self, token):\n",
    "        self.oauth_token = token\n",
    "        self.api_url = \"http://api.genius.com\"\n",
    "        self.api_headers = {'Authorization': 'Bearer ' + oauth_token}\n",
    "        self.web_url = \"https://genius.com\"\n",
    "        \n",
    "    def search_song(self, song_title, artist_name):\n",
    "        search_url = \"{}/search?q={}{}\".format(self.api_url, song_title, artist_name)\n",
    "        response = requests.get(search_url, headers=self.api_headers)\n",
    "        json = response.json()\n",
    "        song_info = None\n",
    "        for hit in json[\"response\"][\"hits\"]:\n",
    "            if hit[\"result\"][\"primary_artist\"][\"name\"] == artist_name:\n",
    "                song_info = hit\n",
    "                break\n",
    "        return song_info\n",
    "    \n",
    "    def get_url(self, song_id):\n",
    "        endpoint = \"/songs/{}\".format(song_id)\n",
    "        # Get song info from API using the song ID\n",
    "        response = requests.get(self.api_url + endpoint, headers=self.api_headers)\n",
    "        return response.json()[\"response\"][\"song\"][\"path\"]\n",
    "    \n",
    "    def get_lyrics(self, endpoint):\n",
    "        # Fetch page containing the lyrics\n",
    "        u = self.web_url + endpoint\n",
    "        page = requests.get(u)\n",
    "        # Extract HTML source code from page\n",
    "        html = BeautifulSoup(page.text, \"html.parser\")\n",
    "        # Remove script tags that they put in the middle of the lyrics\n",
    "        [h.extract() for h in html('script')]\n",
    "        # Get the div-tag where the lyrics are and extract text inside\n",
    "        lyrics = html.find(\"div\", class_=\"lyrics\").get_text()\n",
    "        lyrics = re.sub(r'\\[.+\\]', '', lyrics)\n",
    "        lyrics = re.sub(r'\\n+', ' ', lyrics)\n",
    "        return lyrics\n",
    "    \n",
    "    def fetch_lyrics(self, title, artist):\n",
    "        song = self.search_song(title, artist)\n",
    "        if not(song):\n",
    "            return None\n",
    "        song_id = str(song[\"result\"][\"id\"])\n",
    "        path = self.get_url(song_id)\n",
    "        lyrics = self.get_lyrics(path)\n",
    "        return lyrics\n",
    "        "
   ]
  },
  {
   "cell_type": "markdown",
   "metadata": {},
   "source": [
    "## Data gathering\n",
    "Using the Spotify API to get songs and explicit status and then use the genius API to search for lyrics"
   ]
  },
  {
   "cell_type": "code",
   "execution_count": 20,
   "metadata": {
    "collapsed": true
   },
   "outputs": [],
   "source": [
    "# Method for printing statistics of the tracks\n",
    "def evaluate(tracks):\n",
    "    return \"\""
   ]
  },
  {
   "cell_type": "code",
   "execution_count": 18,
   "metadata": {
    "scrolled": true
   },
   "outputs": [
    {
     "name": "stdout",
     "output_type": "stream",
     "text": [
      "[{'id': '3fsghmcEnT7K9f30ohHDRn', 'artist': '50 Cent', 'title': 'In Da Club', 'explicit': True, 'lyrics': ' Go, go, go, go, go, go Go shorty, it\\'s your birthday We gonna party like it\\'s your birthday We gonna sip Bacardi like it\\'s your birthday And you know we don\\'t give a fuck it\\'s not your birthday You can find me in the club, bottle full of bub\\' Look, mami, I got the X if you into takin\\' drugs I\\'m into havin\\' sex, I ain\\'t into makin\\' love So come give me a hug if you\\'re into gettin\\' rubbed You can find me in the club, bottle full of bub\\' Look, mami, I got the X if you into takin\\' drugs I\\'m into havin\\' sex, I ain\\'t into makin\\' love So come give me a hug if you\\'re into gettin\\' rubbed When I pull up out front, you see the Benz on dubs When I roll twenty deep it\\'s twenty knives in the club Niggas heard I fuck with Dre, now they wanna show me love When you sell like Eminem and the hoes, they wanna fuck But homie, ain\\'t nothin\\' changed: hoes down, G\\'s up I see Xzibit in the cut, hey nigga, roll the weed up! If you watch how I move, you\\'ll mistake me for a player or pimp Been hit with a few shells, but I don\\'t walk with a limp In the hood in L.A. they sayin\\', \"50, you hot.\" They like me, I want \\'em to love me like they love Pac But holla in New York, the niggas\\'ll tell you I\\'m loco And the plan is to put the rap game in a chokehold I\\'m fully focused, man, my money on my mind Got a mil\\' out the deal and I\\'m still on the grind Now shorty said she feelin\\' my style, she feelin\\' my flow Her girlfriend willin\\' to get bi and they ready to go You can find me in the club, bottle full of bub\\' Look, mami, I got the X if you into takin\\' drugs I\\'m into havin\\' sex, I ain\\'t into makin\\' love So come give me a hug if you\\'re into gettin\\' rubbed You can find me in the club, bottle full of bub\\' Look, mami, I got the X if you into takin\\' drugs I\\'m into havin\\' sex, I ain\\'t into makin\\' love So come give me a hug if you\\'re into gettin\\' rubbed My flow, my show brought me the dough That bought me all my fancy things My crib, my cars, my pools, my jewels Look, nigga, I done came up and I ain\\'t changed And you should love it way more than you hate it Nigga, you mad? I thought that you\\'d be happy I made it I\\'m that cat by the bar toastin\\' to the good life You the faggot-ass nigga tryin\\' to pull me back, right? When my joint get to pumpin\\' in the club, it\\'s on I wink my eye at your bitch, if she smiles, she gone If the roof on fire, let the motherfucker burn If you talkin\\' about money, homie, I ain\\'t concerned I\\'ma tell you what Banks told me: \"Cuz, go \\'head, switch the style up If niggas hate then let them hate and watch the money pile up.\" Or we can go upside your head with a bottle of bub\\' They know where we fuckin\\' be You can find me in the club, bottle full of bub\\' Look, mami, I got the X if you into takin\\' drugs I\\'m into havin\\' sex, I ain\\'t into makin\\' love So come give me a hug if you\\'re into gettin\\' rubbed You can find me in the club, bottle full of bub\\' Look, mami, I got the X if you into takin\\' drugs I\\'m into havin\\' sex, I ain\\'t into makin\\' love So come give me a hug if you\\'re into gettin\\' rubbed Don\\'t try to act like you don\\'t know where we be neither We in the club all the time, so pop, pop off Shady, Aftermath '}, {'id': '26IHSipiiSMN7zmwY9CJZS', 'artist': 'R. Kelly', 'title': 'Ignition - Remix', 'explicit': False, 'lyrics': ' Now, usually, I don\\'t do this but uh Go head on and break \\'em off wit a lil\\' preview of the remix Now I\\'m not tryin\\' to be rude But hey pretty girl I\\'m feelin\\' you The way you do the things ya do Reminds me of my Lexus coupe That\\'s why I\\'m all up in ya grill Tryin\\' to get you to a hotel You must be a football coach The way you got me playin\\' the field So baby gimme dat \"Toot toot\" And lemme give ya that \"Beep beep\" Runnin\\' her hands through my \\'fro Bouncin\\' on twenty fo\\'s While they sayin\\' on the radio It\\'s the remix to ignition Hot and fresh out the kitchen Mama rollin\\' that body Got every man in here wishin\\' Sippin\\' on coke and rum (rum) I\\'m like so what I\\'m drunk (drunk) It\\'s the freakin\\' weekend Baby I\\'m about to have me some fun (fun) Bounce, bounce, bounce, bounce, bounce, bounce, bounce Bounce, bounce, bounce C\\'mon Now it\\'s like \"Murda She Wrote\" Once I get cha out them clothes Privacy is on the door But still they can hear you screaming more Girl I\\'m feelin\\' whatchu feelin\\' No more hopin\\' and wishin\\' I\\'m about to take my key and Stick it in the ignition So gimme dat \"Toot toot\" And lemme give ya that \"Beep beep\" Runnin\\' her hands through my \\'fro Bouncin\\' on twenty fo\\'s While they sayin\\' on the radio It\\'s the remix to ignition Hot and fresh out the kitchen Mama rollin\\' that body Got every man in here wishin\\' Sippin\\' on coke and rum (rum) I\\'m like so what I\\'m drunk (drunk) It\\'s the freakin\\' weekend Baby I\\'m about to have me some fun (fun) Cristal poppin\\' in the stretch Navigator We got food everywhere, as if the party was catered We\\'ve got fellas to my left (left) Honies on my right (right) We bring \\'em both together, we got jukin\\' all night Then after the show, it\\'s the after party And after the party, it\\'s the hotel lobby Yeah, around about four you gotta clear the lobby Then take it to ya room and freak somebody Can i get a \"Toot toot\" Can i get a \"Beep beep\" Runnin\\' her hands through my \\'fro Bouncin\\' on twenty fo\\'s While they sayin\\' on the radio It\\'s the remix to ignition Hot and fresh out the kitchen Mama rollin\\' that body Got every man in here wishin\\' Sippin\\' on coke and rum (rum) I\\'m like so what I\\'m drunk (drunk) It\\'s the freakin\\' weekend Baby I\\'m about to have me some fun (fun) It\\'s the remix to ignition Hot and fresh out the kitchen Mama rollin\\' that body Got every man in here wishin\\' Sippin\\' on coke and rum (rum) I\\'m like so what I\\'m drunk (drunk) It\\'s the freakin\\' weekend Baby I\\'m about to have me some fun (fun) Girl, we off in this Jeep Foggin\\' windows up Blastin\\' the radio In the back of my truck Bouncin\\' up and down Strokin\\' round and round To the remix We just thuggin\\' it out '}, {'id': '6fgbQt13JlpN59PytgTMsA', 'artist': 'Red Hot Chili Peppers', 'title': 'Snow (Hey Oh)', 'explicit': False, 'lyrics': \" Come to decide that the things that I tried Were in my life just to get high on When I sit alone, come get a little known But I need more than myself this time Step from the road to the sea to the sky And I do believe that we rely on When I lay it on, come get to play it on All my life to sacrifice Hey oh Listen what I say oh I got your hey oh Now listen what I say oh When will I know that I really can't go To the well once more time to decide on When it's killing me, when will I really see All that I need to look inside? Come to believe that I better not leave Before I get my chance to ride When it's killing me, what do I really need All that I need to look inside Hey oh Listen what I say oh Come back and hey oh Look at what I say oh The more I see, the less I know The more I like to let it go Hey oh, whoa-whoa Deep beneath the cover of another perfect wonder Where it's so white as snow Privately divided by a world so undecided And there's nowhere to go In between the cover of another perfect wonder And it's so white as snow Running through the field where all my tracks will be concealed And there's nowhere to go When to descend to amend for a friend All the channels that have broken down Now you bring it up, I'm gonna ring it up Just to hear you sing it out Step from the road to the sea to the sky And I do believe what we rely on When I lay it on, come get to play it on All my life to sacrifice Hey oh Listen what I say oh I got your hey oh Listen what I say oh The more I see, the less I know The more I like to let it go Hey oh, whoa-whoa Deep beneath the cover of another perfect wonder Where it's so white as snow Privately divided by a world so undecided And there's nowhere to go In between the cover of another perfect wonder Where it's so white as snow Running through the field where all my tracks will be concealed And there's nowhere to go I said hey, hey yeah Oh yeah, tell my Love now Hey, hey yeah Oh yeah, tell my Love now Deep beneath the cover of another perfect wonder Where it's so white as snow Privately divided by a world so undecided And there's nowhere to go Deep beneath the cover of another perfect wonder Where it's so white as snow Running through the field where all my tracks will be concealed And there's nowhere to go I said hey, oh yeah Oh yeah, tell my love now Hey, hey yeah, oh yeah \"}, {'id': '6a8GbQIlV8HBUW3c6Uk9PH', 'artist': 'Pitbull', 'title': 'I Know You Want Me (Calle Ocho)', 'explicit': False, 'lyrics': \" Haha Its Mr. 305 checkin' in for the remix You know that is 75 Street Brazil? Well this here is gon' be called Calle Ocho Hahahaha Que Bola Cata, Que Bola Omega And this how we gon' do it Dale One, two, three, four Uno, do', tres, cuatro I know you want me (want me) You know I want cha (want cha) I know you want me You know I want cha (want cha) I know you want me (want me) You know I want cha (want cha) I know you want me You know I want cha (want cha) (Hahaha) One, two, three, four Uno, do', tres, cuatro Rumba (Si) Ella quiere su Rumba (Como?) Rumba (Si) Ella quiere si Rumba (Como?) Si e' verdad que tu ere' guapa Yo te voy a poner gozar Tu tienes la boca grande Dale ponte a jugar (Como) One, two, three, four Uno, do', tres, cuatro (Woooo-ooo!) Tick to the tock, on my way to the top, huh Pit got it locked from goons to the locks R.I.P., uh, BIG and Pac That he's not, but damn he's hot Label flop but Pit won't stop Got her in the cockpit playin' with Pit's (Como?) Now watch me make a movie like Albert Hitchcock, ha Enjoy Me I know you want me (want me) You know I want cha (want cha) I know you want me You know I want cha (want cha) I know you want me (want me) You know I want cha (want cha) I know you want me You know I want cha (want cha) One, two, three, four Uno, do', tres, cuatro Rumba (Si) Ella quiere su Rumba (Como?) Rumba (Si) Ella quiere su Rumba (Como?) Si es verdad que tu ere guapa Yo te voy a poner gozar Tu tiene la boca grande Dale ponte a jugar (Como) One, two, three, four Uno, do', tres, cuatro (Woooo-ooo!) Mami got an ass like a donkey, with a monkey Look like King Kong Welcome to the crib, 305, that's what it is With a woman down here ya shhh The don't play games They off the chain, and they love to do Everythang and anythang, anythang And they love to gettin' in, gettin' on All night long (Dale) I know you want me (want me) You know I want cha (want cha) I know you want me You know I want cha (want cha) I know you want me (want me) You know I want cha (want cha) I know you want me You know I want cha (want cha) One, two, three, four Uno, do', tres, cuatro Rumba (Si) Ella quiere su Rumba (Como?) Rumba (Si) Ella quiere su Rumba (Como?) Si es verdad que tu ere guapa Yo te voy a poner gozar Tu tiene la boca grande Dale ponte a jugar (Como) One, two, three, four Uno, do', tres, cuatro Baby you can get it, if you with it, we can play Baby I got cribs, I got condos we can stay Even got a king size matress we can lay Baby I don't care, I don't care, what they say, 'cause I know you want me (want me) You know I want cha (want cha) I know you want me You know I want cha (want cha) I know you want me (want me) You know I want cha (want cha) I know you want me You know I want cha (want cha) One, two, three, four Uno, do', tres, cuatro Rumba (Si) Ella quiere su Rumba (Como?) Rumba (Si) Ella quiere su Rumba (Como?) Si es verdad que tu ere guapa Yo te voy a poner gozar Tu tiene la boca grande Dale ponte a jugar (Como) One, two, three, four Uno, do', tres, cuatro \"}, {'id': '7bprRkhvOXWmWpqOrEWbXu', 'artist': 'P!nk', 'title': 'So What', 'explicit': True, 'lyrics': \" Na na na na na na na, na na na na na na Na na na na na na na, na na na na na na I guess I just lost my husband, I don't know where he went So I'm gonna drink my money, I'm not gonna pay his rent (nope!) I got a brand new attitude and I'm gonna wear it tonight I wanna get in trouble, I wanna start a fight Na na na na na na na, I wanna start a fight Na na na na na na na, I wanna start a fight So, so what? I'm still a rock star I got my rock moves and I don't need you And guess what? I'm having more fun And now that we're done, I'm gonna show you tonight I'm alright I'm just fine and you're a tool So, so what? I am a rock star I got my rock moves and I don't want you tonight (Uh, check my flow, aw) The waiter just took my table And gave it to Jessica Simps (shit!) I guess I'll go sit with drum boy At least he'll know how to hit (oops!) What if this song's on the radio Then somebody's gonna die I'm gonna get in trouble My ex will start a fight Na na na na na na na he's gonna start a fight Na na na na na na na we're all gonna get in a fight! So, so what? I'm still a rock star I got my rock moves and I don't need you And guess what? I'm having more fun And now that we're done, I'm gonna show you tonight I'm alright I'm just fine and you're a tool So, so what? I am a rock star I got my rock moves and I don't want you tonight You weren't there, you never were You want it all, but that's not fair I gave you life, I gave my all You weren't there, you let me fall So, so what? I'm still a rock star I got my rock moves and I don't need you And guess what? I'm having more fun And now that we're done, I'm gonna show you tonight I'm alright I'm just fine and you're a tool So, so what? I am a rock star I got my rock moves and I don't want you tonight No, no, no, no I don't want you tonight You weren't there I'm gonna show you tonight (I'm gonna show you tonight) I'm alright (I'm alright) I'm just fine and you're a tool So, so what? I am a rock star I got my rock moves and I don't want you tonight! Ba da da da da da \"}]\n"
     ]
    }
   ],
   "source": [
    "oauth_token = \"O8rraozwWRK1i66ofhUJSZ9EDCBLkxg-gfoDzBB9_XH3Vjsm0qYoewK8C7lMOWkh\"\n",
    "catcher = LyricsCatcher(oauth_token)\n",
    "tr = TrackRetriever()\n",
    "playlists = [\n",
    "    'spotify:user:heekzz:playlist:5IeIXRXPSkRpBX9bNo5onK', # Test\n",
    "    #'spotify:user:heekzz:playlist:6nL0gtJLo2xqCWIirZ4inF', # Rockify\n",
    "    #'spotify:user:spotify:playlist:37i9dQZF1DXcF6B6QPhFDv', # Rock Classics\n",
    "    #'spotify:user:spotify:playlist:37i9dQZF1DX0XUsuxWHRQd', # Rapcaviar \n",
    "    #'spotify:user:spotify:playlist:37i9dQZF1DWVA1Gq4XHa6U', # Gold School (Hiphop)\n",
    "    #'',\n",
    "    #'',\n",
    "    #'',\n",
    "    #'',\n",
    "    #'',\n",
    "    #'',\n",
    "    #''\n",
    "]\n",
    "\n",
    "tracks_with_lyrics = []\n",
    "track_id_set = set()\n",
    "for pl in playlists:\n",
    "    tracks = tr.get_track_info(pl)\n",
    "    for t in tracks:\n",
    "        if t['id'] not in track_id_set:\n",
    "            lyrics = catcher.fetch_lyrics(t['title'], t['artist'])\n",
    "            if lyrics != None:\n",
    "                data = {'id': t['id'], 'artist': t['artist'], 'title': t['title'], 'explicit': t['explicit'], 'lyrics': lyrics}\n",
    "                tracks_with_lyrics.append(data)\n",
    "            track_id_set.add(t['id'])\n",
    "print(tracks_with_lyrics)"
   ]
  }
 ],
 "metadata": {
  "kernelspec": {
   "display_name": "Python 3",
   "language": "python",
   "name": "python3"
  },
  "language_info": {
   "codemirror_mode": {
    "name": "ipython",
    "version": 3
   },
   "file_extension": ".py",
   "mimetype": "text/x-python",
   "name": "python",
   "nbconvert_exporter": "python",
   "pygments_lexer": "ipython3",
   "version": "3.6.3"
  }
 },
 "nbformat": 4,
 "nbformat_minor": 2
}
