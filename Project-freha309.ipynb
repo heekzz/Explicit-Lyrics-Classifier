{
 "cells": [
  {
   "cell_type": "markdown",
   "metadata": {},
   "source": [
    " # TDDE16 - Project"
   ]
  },
  {
   "cell_type": "markdown",
   "metadata": {},
   "source": [
    "### Description\n",
    "Get song lyrics and detect if the lyrics are containing bad words and then mark the song as “Explicit”. Check from explicit songs in Spotify as golden standard. Replace the explicit word with a suitable non-explicit word.\n",
    "\n",
    "Using Genius and Spotify API :) \n"
   ]
  },
  {
   "cell_type": "markdown",
   "metadata": {},
   "source": [
    "## Data retrieval"
   ]
  },
  {
   "cell_type": "markdown",
   "metadata": {},
   "source": [
    "### Spotify"
   ]
  },
  {
   "cell_type": "code",
   "execution_count": 194,
   "metadata": {},
   "outputs": [],
   "source": [
    "import requests, json, base64\n",
    "\n",
    "class TrackRetriever():\n",
    "    def __init__(self):\n",
    "        self.request_token()\n",
    "        \n",
    "    def request_token(self):\n",
    "        client_id = '055a803e06f848a9a6b18ec76aafbe6e'\n",
    "        client_secret = '756b412f52d54b49bd4e2fa0b2f0df15'\n",
    "        string = ':'.join([client_id, client_secret])\n",
    "        encoded = base64.b64encode(string.encode())\n",
    "        header = { \"Authorization\" : \"Basic \" + encoded.decode('utf-8')}\n",
    "        data = {\"grant_type\" : \"client_credentials\"}\n",
    "        url = \"https://accounts.spotify.com/api/token\" \n",
    "        response = requests.post(url, data=data, headers=header)\n",
    "        self.token = response.json()['access_token']\n",
    "        if not self.token:\n",
    "            print(\"Error receiving token!\")\n",
    "            print(response.json())\n",
    "        \n",
    "    def get_track_by_id():\n",
    "        header = header = { \"Authorization\" : \"Bearer \" + self.token}\n",
    "        request\n",
    "        \n",
    "t = TrackRetriever()"
   ]
  },
  {
   "cell_type": "markdown",
   "metadata": {},
   "source": [
    "### Genius"
   ]
  },
  {
   "cell_type": "code",
   "execution_count": 148,
   "metadata": {
    "scrolled": true
   },
   "outputs": [],
   "source": [
    "import requests, json, re\n",
    "from bs4 import BeautifulSoup\n",
    "\n",
    "class LyricsCatcher():\n",
    "    def __init__(self, token):\n",
    "        self.oauth_token = token\n",
    "        self.api_url = \"http://api.genius.com\"\n",
    "        self.api_headers = {'Authorization': 'Bearer ' + oauth_token}\n",
    "        self.web_url = \"https://genius.com\"\n",
    "        \n",
    "    def search_song(self, song_title, artist_name):\n",
    "        search_url = self.api_url + \"/search?q=\" + song_title + artist_name\n",
    "        response = requests.get(search_url, headers=self.api_headers)\n",
    "        json = response.json()\n",
    "        song_info = None\n",
    "        for hit in json[\"response\"][\"hits\"]:\n",
    "            if hit[\"result\"][\"primary_artist\"][\"name\"] == artist_name:\n",
    "                song_info = hit\n",
    "                break\n",
    "        return song_info\n",
    "    \n",
    "    def get_url(self, song_id):\n",
    "        endpoint = \"/songs/{}\".format(song_id)\n",
    "        # Get song info from API using the song ID\n",
    "        response = requests.get(self.api_url + endpoint, headers=self.api_headers)\n",
    "        return response.json()[\"response\"][\"song\"][\"path\"]\n",
    "    \n",
    "    def get_lyrics(self, endpoint):\n",
    "        # Fetch page containing the lyrics\n",
    "        u = self.web_url + endpoint\n",
    "        page = requests.get(u)\n",
    "        # Extract HTML source code from page\n",
    "        html = BeautifulSoup(page.text, \"html.parser\")\n",
    "        # Remove script tags that they put in the middle of the lyrics\n",
    "        [h.extract() for h in html('script')]\n",
    "        # Get the div-tag where the lyrics are and extract text inside\n",
    "        lyrics = html.find(\"div\", class_=\"lyrics\").get_text()\n",
    "        lyrics = re.sub(r'\\[.+\\]', '', lyrics)\n",
    "        lyrics = re.sub(r'\\n+', ' ', lyrics)\n",
    "        return lyrics\n",
    "    \n",
    "    def fetch_lyrics(self, title, artist):\n",
    "        song = self.search_song(title, artist)\n",
    "        if not(song):\n",
    "            return \"No lyrics found\"\n",
    "        song_id = str(song[\"result\"][\"id\"])\n",
    "        path = self.get_url(song_id)\n",
    "        lyrics = self.get_lyrics(path)\n",
    "        return lyrics\n",
    "        "
   ]
  },
  {
   "cell_type": "code",
   "execution_count": 151,
   "metadata": {
    "scrolled": true
   },
   "outputs": [
    {
     "name": "stdout",
     "output_type": "stream",
     "text": [
      " I found a love for me Oh darling, just dive right in and follow my lead Well, I found a girl, beautiful and sweet Oh, I never knew you were the someone waiting for me 'Cause we were just kids when we fell in love Not knowing what it was I will not give you up this time But darling, just kiss me slow, your heart is all I own And in your eyes, you're holding mine Baby, I'm dancing in the dark with you between my arms Barefoot on the grass, listening to our favourite song When you said you looked a mess, I whispered underneath my breath But you heard it, darling, you look perfect tonight Well I found a woman, stronger than anyone I know She shares my dreams, I hope that someday I'll share her home I found a love, to carry more than just my secrets To carry love, to carry children of our own We are still kids, but we're so in love Fighting against all odds I know we'll be alright this time Darling, just hold my hand Be my girl, I'll be your man I see my future in your eyes Baby, I'm dancing in the dark, with you between my arms Barefoot on the grass, listening to our favorite song When I saw you in that dress, looking so beautiful I don't deserve this, darling, you look perfect tonight Baby, I'm dancing in the dark, with you between my arms Barefoot on the grass, listening to our favorite song I have faith in what I see Now I know I have met an angel in person And she looks perfect I don't deserve this You look perfect tonight \n"
     ]
    }
   ],
   "source": [
    "oauth_token = \"86pRgNSYRAJitYtoSwyqY10-5JRgq0MualNSiL9LkfmcJq7dfwUIwh8kQqUGoPH5\"\n",
    "catcher = LyricsCatcher(oauth_token)\n",
    "print(catcher.fetch_lyrics(\"Perfect\", \"Ed Sheeran\"))\n"
   ]
  }
 ],
 "metadata": {
  "kernelspec": {
   "display_name": "Python 3",
   "language": "python",
   "name": "python3"
  },
  "language_info": {
   "codemirror_mode": {
    "name": "ipython",
    "version": 3
   },
   "file_extension": ".py",
   "mimetype": "text/x-python",
   "name": "python",
   "nbconvert_exporter": "python",
   "pygments_lexer": "ipython3",
   "version": "3.6.3"
  }
 },
 "nbformat": 4,
 "nbformat_minor": 2
}
